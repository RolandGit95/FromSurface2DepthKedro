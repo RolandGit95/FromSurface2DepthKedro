{
 "cells": [
  {
   "cell_type": "code",
   "execution_count": 1,
   "id": "374ec1a5",
   "metadata": {},
   "outputs": [],
   "source": [
    "import sys, os, glob\n",
    "import numpy as np\n",
    "import matplotlib.pyplot as plt\n",
    "import tikzplotlib\n",
    "from omegaconf import OmegaConf\n",
    "import re"
   ]
  },
  {
   "cell_type": "code",
   "execution_count": 2,
   "id": "2dde444e",
   "metadata": {},
   "outputs": [],
   "source": [
    "lambda_c = 16.2\n",
    "T_c = 74.93"
   ]
  },
  {
   "cell_type": "code",
   "execution_count": 3,
   "id": "de5c9e56",
   "metadata": {},
   "outputs": [],
   "source": [
    "dataset = 'regimeB'\n",
    "folder = f'/home/roland/Projekte/Tests/FromSurface2DepthKedro/data/08_validation/{dataset}'\n",
    "prefix = 'STLSTM'"
   ]
  },
  {
   "cell_type": "code",
   "execution_count": 4,
   "id": "88e96f3d",
   "metadata": {},
   "outputs": [],
   "source": [
    "def getNumbers(string):\n",
    "    res = [int(i) for i in string.split() if i.isdigit()]\n",
    "    return res"
   ]
  },
  {
   "cell_type": "code",
   "execution_count": 5,
   "id": "bc01a746",
   "metadata": {},
   "outputs": [],
   "source": [
    "files = glob.glob(os.path.join(folder, prefix + '*'))\n",
    "files\n",
    "plot_info = dict()\n",
    "\n",
    "for i, file in enumerate(files):\n",
    "    plot_info[f'{i}'] = dict()\n",
    "    \n",
    "    name = os.path.basename(file)\n",
    "    T, D = re.findall('[0-9]+', name)\n",
    "    \n",
    "    plot_info[f'{i}']['path'] = file\n",
    "    plot_info[f'{i}']['name'] = name\n",
    "    plot_info[f'{i}']['T'] = int(T)\n",
    "    plot_info[f'{i}']['D'] = int(D)\n",
    "    plot_info[f'{i}']['losses'] = np.load(file)\n",
    "#plot_info"
   ]
  },
  {
   "cell_type": "code",
   "execution_count": 6,
   "id": "1ee97c84",
   "metadata": {},
   "outputs": [
    {
     "name": "stderr",
     "output_type": "stream",
     "text": [
      "No handles with labels found to put in legend.\n"
     ]
    },
    {
     "data": {
      "text/plain": [
       "<matplotlib.legend.Legend at 0x7fb844670150>"
      ]
     },
     "execution_count": 6,
     "metadata": {},
     "output_type": "execute_result"
    },
    {
     "data": {
      "image/png": "[encoded data removed]",
      "text/plain": [
       "<Figure size 640x480 with 1 Axes>"
      ]
     },
     "metadata": {},
     "output_type": "display_data"
    }
   ],
   "source": [
    "Ts = [4,8,12,16,20,25,28,30]\n",
    "\n",
    "plt.style.use('default')\n",
    "\n",
    "fig = plt.figure()\n",
    "ax1 = fig.add_subplot(111)\n",
    "plt.subplots_adjust(left=0.10, right=0.98, top=0.83, bottom=0.12)\n",
    "\n",
    "for key, values in plot_info.items():\n",
    "    for T in Ts:\n",
    "        if T==values['T']:\n",
    "            ax1.plot(values['losses'], label=values['T'])\n",
    "            \n",
    "plt.legend()\n"
   ]
  },
  {
   "cell_type": "code",
   "execution_count": 22,
   "id": "7a0c4c94",
   "metadata": {},
   "outputs": [],
   "source": [
    "numbers = re.findall('[0-9]+', files[0])"
   ]
  },
  {
   "cell_type": "code",
   "execution_count": 23,
   "id": "3f253f08",
   "metadata": {},
   "outputs": [
    {
     "data": {
      "text/plain": [
       "['2', '08', '20', '32']"
      ]
     },
     "execution_count": 23,
     "metadata": {},
     "output_type": "execute_result"
    }
   ],
   "source": [
    "numbers"
   ]
  },
  {
   "cell_type": "code",
   "execution_count": null,
   "id": "3e3375fd",
   "metadata": {},
   "outputs": [],
   "source": []
  }
 ],
 "metadata": {
  "kernelspec": {
   "display_name": "surface2depth",
   "language": "python",
   "name": "surface2depth"
  },
  "language_info": {
   "codemirror_mode": {
    "name": "ipython",
    "version": 3
   },
   "file_extension": ".py",
   "mimetype": "text/x-python",
   "name": "python",
   "nbconvert_exporter": "python",
   "pygments_lexer": "ipython3",
   "version": "3.7.11"
  }
 },
 "nbformat": 4,
 "nbformat_minor": 5
}
