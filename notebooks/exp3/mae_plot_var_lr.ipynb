{
 "cells": [
  {
   "cell_type": "code",
   "execution_count": 5,
   "id": "bec4c04a",
   "metadata": {},
   "outputs": [],
   "source": [
    "import sys, os\n",
    "import numpy as np\n",
    "from tqdm import tqdm\n",
    "import glob\n",
    "\n",
    "import matplotlib.pyplot as plt\n",
    "import tikzplotlib\n",
    "\n",
    "working_path = os.path.join(os.path.dirname(os.getcwd()), '')\n",
    "parent_path = os.path.join(os.path.dirname(os.path.dirname(os.getcwd())), '')\n",
    "\n",
    "sys.path.append(working_path)\n",
    "sys.path.append(parent_path)"
   ]
  },
  {
   "cell_type": "code",
   "execution_count": 8,
   "id": "edac7597",
   "metadata": {},
   "outputs": [
    {
     "data": {
      "text/plain": [
       "'STLSTM_t32_d_16_Y_test_00.npy'"
      ]
     },
     "execution_count": 8,
     "metadata": {},
     "output_type": "execute_result"
    }
   ],
   "source": [
    "mae_file_path = \"/home/roland/Projekte/Tests/FromSurface2DepthKedro/data/05_validation/regimeB/exp3\"\n",
    "files_prefix = \"STLSTM_t32_d_\"\n",
    "files = glob.glob(os.path.join(mae_file_path, files_prefix + \"*\"))\n",
    "\n",
    "os.path.basename(files[0])"
   ]
  },
  {
   "cell_type": "code",
   "execution_count": 16,
   "id": "645fd40f",
   "metadata": {},
   "outputs": [
    {
     "data": {
      "text/plain": [
       "{'STLSTM_t32_d_16_Y_test_00.npy': 0.22352517,\n",
       " 'STLSTM_t32_d_4_Y_test_00.npy': 0.1905982,\n",
       " 'STLSTM_t32_d_6_Y_test_00.npy': 0.19172458,\n",
       " 'STLSTM_t32_d_7_Y_test_00.npy': 0.25636694,\n",
       " 'STLSTM_t32_d_0_Y_test_00.npy': 0.24626721,\n",
       " 'STLSTM_t32_d_1_Y_test_00.npy': 0.19592762,\n",
       " 'STLSTM_t32_d_5_Y_test_00.npy': 0.23492338,\n",
       " 'STLSTM_t32_d_8_Y_test_00.npy': 0.19560468,\n",
       " 'STLSTM_t32_d_3_Y_test_00.npy': 0.1873198,\n",
       " 'STLSTM_t32_d_2_Y_test_00.npy': 0.1990891}"
      ]
     },
     "execution_count": 16,
     "metadata": {},
     "output_type": "execute_result"
    }
   ],
   "source": [
    "MAE = dict()\n",
    "for file in files:\n",
    "    basename = os.path.basename(file)\n",
    "    MAE[basename] = np.load(file)[0]\n",
    "    \n",
    "MAE"
   ]
  }
 ],
 "metadata": {
  "kernelspec": {
   "display_name": "surface2depth",
   "language": "python",
   "name": "surface2depth"
  },
  "language_info": {
   "codemirror_mode": {
    "name": "ipython",
    "version": 3
   },
   "file_extension": ".py",
   "mimetype": "text/x-python",
   "name": "python",
   "nbconvert_exporter": "python",
   "pygments_lexer": "ipython3",
   "version": "3.7.11"
  }
 },
 "nbformat": 4,
 "nbformat_minor": 5
}
